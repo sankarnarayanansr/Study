{
 "cells": [
  {
   "cell_type": "code",
   "execution_count": 7,
   "metadata": {},
   "outputs": [
    {
     "name": "stdout",
     "output_type": "stream",
     "text": [
      "7 7\n"
     ]
    }
   ],
   "source": [
    "tmp=[[1,2,3],[1,2,3],[2,3,4]]\n",
    "i=0\n",
    "diag_a_sum=0\n",
    "diag_b_sum=0\n",
    "while i<len(tmp):\n",
    "\n",
    "    diag_a_sum+=tmp[i][i]\n",
    "    diag_b_sum+=tmp[i][len(tmp)-i-1]\n",
    "    i=i+1\n",
    "\n",
    "print(diag_a_sum,diag_b_sum)\n",
    "#o(n)\n"
   ]
  },
  {
   "cell_type": "code",
   "execution_count": 46,
   "metadata": {},
   "outputs": [
    {
     "name": "stdout",
     "output_type": "stream",
     "text": [
      "89087\n"
     ]
    }
   ],
   "source": [
    "# func int input , return same value but type string\n",
    "\n",
    "# def intToString(num):\n",
    "#     s=''\n",
    "#     numtostr={0:'0',1:'1',2:'2',3:'3',4:'4',5:'5',6:'6',7:'7',8:'8',9:'9'}\n",
    "#     if num == 0:\n",
    "#         print(numtostr[0])\n",
    "#     while num>0:\n",
    "#         tmp=num%10\n",
    "#         s=numtostr[tmp]+s\n",
    "#         num=num//10\n",
    "#     print(s)\n",
    "# intToString(5678)\n",
    "\n",
    "s=''\n",
    "def intToString(num):\n",
    "    global s\n",
    "    if num == 0 and not len(s):\n",
    "        s=s+'0'\n",
    "        return \n",
    "    numtostr={0:'0',1:'1',2:'2',3:'3',4:'4',5:'5',6:'6',7:'7',8:'8',9:'9'}\n",
    "    if num>0:\n",
    "        tmp=num%10\n",
    "        s=numtostr[tmp]+s\n",
    "        intToString(num=num//10)\n",
    "intToString(89087)\n",
    "print(s)\n",
    "\n",
    "\n",
    "\n",
    "    \n",
    "    \n"
   ]
  },
  {
   "cell_type": "code",
   "execution_count": 47,
   "metadata": {},
   "outputs": [
    {
     "ename": "SyntaxError",
     "evalue": "invalid syntax (4077714196.py, line 1)",
     "output_type": "error",
     "traceback": [
      "\u001b[1;36m  Cell \u001b[1;32mIn[47], line 1\u001b[1;36m\u001b[0m\n\u001b[1;33m    event capturing and bubbling\u001b[0m\n\u001b[1;37m          ^\u001b[0m\n\u001b[1;31mSyntaxError\u001b[0m\u001b[1;31m:\u001b[0m invalid syntax\n"
     ]
    }
   ],
   "source": [
    "event capturing and bubbling \n",
    "same directing and invert direction is handled diff"
   ]
  },
  {
   "cell_type": "code",
   "execution_count": null,
   "metadata": {},
   "outputs": [],
   "source": []
  },
  {
   "cell_type": "code",
   "execution_count": null,
   "metadata": {},
   "outputs": [],
   "source": []
  },
  {
   "cell_type": "code",
   "execution_count": null,
   "metadata": {},
   "outputs": [],
   "source": []
  },
  {
   "cell_type": "code",
   "execution_count": 70,
   "metadata": {},
   "outputs": [
    {
     "name": "stdout",
     "output_type": "stream",
     "text": [
      "[1, 2, 3, 3, 4, 5, 6]\n"
     ]
    }
   ],
   "source": [
    "# 1,7,3,2,4,5\n",
    "# 1,7,3      2,4,5\n",
    "# 1,7   3   2 , 4, 5\n",
    "def checksorted(arr):\n",
    "    for i in range(1,len(arr)):\n",
    "        if arr[i]<arr[i-1]:\n",
    "            return False\n",
    "    return True\n",
    "def mergeSort(arr):\n",
    "    if checksorted(arr):\n",
    "        return arr\n",
    "    else:\n",
    "        mid = len(arr)//2\n",
    "        arr1 = arr[0:mid]\n",
    "        if not checksorted(arr1):\n",
    "            arr1=mergeSort(arr1)\n",
    "        arr2= arr[mid:]\n",
    "        if not checksorted(arr2):\n",
    "            arr2=mergeSort(arr2)\n",
    "        merged = []\n",
    "        i=0\n",
    "        j=0\n",
    "        while i<len(arr1) and j<len(arr2):\n",
    "            if arr1[i]<arr2[j]:\n",
    "                merged.append(arr1[i])\n",
    "                i+=1\n",
    "            else:\n",
    "                merged.append(arr2[j])\n",
    "                j+=1\n",
    "        if i<len(arr1):\n",
    "            merged.extend(arr1[i:])\n",
    "        if j<len(arr2):\n",
    "            merged.extend(arr2[j:])\n",
    "        return merged\n",
    "print(mergeSort([1,3,2,5,4,3,6]))\n",
    "\n",
    "\n",
    "\n",
    "\n",
    "\n"
   ]
  },
  {
   "cell_type": "code",
   "execution_count": 53,
   "metadata": {},
   "outputs": [
    {
     "name": "stdout",
     "output_type": "stream",
     "text": [
      "5\n"
     ]
    }
   ],
   "source": [
    "arr = [1,2,2,2,2,4,9,5,6]\n",
    "hashmap={}\n",
    "for x in arr:\n",
    "    hashmap[x]=1 if x not in hashmap else hashmap[x]+1\n",
    "c=0\n",
    "for x in hashmap:\n",
    "    if hashmap[x]==1:\n",
    "        c+=1\n",
    "print(c)"
   ]
  },
  {
   "cell_type": "code",
   "execution_count": 54,
   "metadata": {},
   "outputs": [
    {
     "name": "stdout",
     "output_type": "stream",
     "text": [
      "5\n"
     ]
    }
   ],
   "source": [
    "arr = [1,2,2,2,2,4,5,6,9]\n",
    "c=0\n",
    "curr = arr[0]\n",
    "for i in range(1,len(arr)):\n",
    "    if arr[i] != arr[i-1] and curr!=arr[i]:\n",
    "        c+=1\n",
    "    curr = arr[i]\n",
    "print(c)"
   ]
  },
  {
   "cell_type": "code",
   "execution_count": 71,
   "metadata": {},
   "outputs": [
    {
     "name": "stdout",
     "output_type": "stream",
     "text": [
      "4\n"
     ]
    }
   ],
   "source": [
    "# Given two strings ‘X’ and ‘Y’, find the length of the longest common substring.\n",
    "X = 'abcdxyz'\n",
    "Y = 'xyzabcd'\n",
    "cache={}\n",
    "def recurse(i,j,c):\n",
    "    # print(i,j,c)\n",
    "    if (i,j,c) in cache:\n",
    "        return cache[(i,j,c)]\n",
    "    if i==len(X) or j==len(Y):\n",
    "        return c\n",
    "    else:\n",
    "        if X[i]==Y[j]:\n",
    "\n",
    "            x=recurse(i+1,j+1,c+1)\n",
    "            cache[(i+1,j+1,c+1)]=x\n",
    "            return x\n",
    "        else:\n",
    "            return max(recurse(i+1,j,c),recurse(i,j+1,c))\n",
    "print(recurse(0,0,0))\n",
    "\n"
   ]
  },
  {
   "cell_type": "code",
   "execution_count": 1,
   "metadata": {},
   "outputs": [
    {
     "ename": "SyntaxError",
     "evalue": "invalid syntax (4152751885.py, line 7)",
     "output_type": "error",
     "traceback": [
      "\u001b[1;36m  Cell \u001b[1;32mIn[1], line 7\u001b[1;36m\u001b[0m\n\u001b[1;33m    select * from customers where customer_id=1 offset 2 limit 5\u001b[0m\n\u001b[1;37m             ^\u001b[0m\n\u001b[1;31mSyntaxError\u001b[0m\u001b[1;31m:\u001b[0m invalid syntax\n"
     ]
    }
   ],
   "source": [
    "# import threading\n",
    "# thread.join()\n",
    "# lock\n",
    "\n",
    "# GIL\n",
    "\n",
    "select * from customers where customer_id=1 offset 2 limit 5\n",
    "\n",
    "try:\n",
    "    block\n",
    "except ZeroDivisionError as ze:\n",
    "    pass\n",
    "finally:\n",
    "    db.close()\n",
    "\n",
    "\n",
    "\n",
    "\n",
    "\n",
    "\n",
    "\n"
   ]
  },
  {
   "cell_type": "code",
   "execution_count": null,
   "metadata": {},
   "outputs": [],
   "source": []
  },
  {
   "cell_type": "code",
   "execution_count": null,
   "metadata": {},
   "outputs": [],
   "source": []
  },
  {
   "cell_type": "code",
   "execution_count": null,
   "metadata": {},
   "outputs": [],
   "source": []
  },
  {
   "cell_type": "code",
   "execution_count": 22,
   "metadata": {},
   "outputs": [
    {
     "name": "stdout",
     "output_type": "stream",
     "text": [
      "178684461669052552311410692812805706249615844217278044703496837914086683543763273909969771627106004287604844670397177991379601\n",
      "0.0015721321105957031\n",
      "178684461669052552311410692812805706249615844217278044703496837914086683543763273909969771627106004287604844670397177991379601\n",
      "0.000469207763671875\n"
     ]
    }
   ],
   "source": [
    "from functools import cache\n",
    "@cache\n",
    "def fibonaci(a,b,n,end):\n",
    "    if n>=end:\n",
    "        return b\n",
    "    return fibonaci(b,a+b,n+1,end)\n",
    "import time\n",
    "s=time.time()\n",
    "print(fibonaci(1,1,1,600))\n",
    "t=time.time()\n",
    "print(t-s)\n",
    "s=time.time()\n",
    "print(fibonaci(1,1,1,600))\n",
    "t=time.time()\n",
    "print(t-s)"
   ]
  },
  {
   "cell_type": "code",
   "execution_count": null,
   "metadata": {},
   "outputs": [],
   "source": [
    "s"
   ]
  }
 ],
 "metadata": {
  "kernelspec": {
   "display_name": "Python 3",
   "language": "python",
   "name": "python3"
  },
  "language_info": {
   "codemirror_mode": {
    "name": "ipython",
    "version": 3
   },
   "file_extension": ".py",
   "mimetype": "text/x-python",
   "name": "python",
   "nbconvert_exporter": "python",
   "pygments_lexer": "ipython3",
   "version": "3.12.5"
  }
 },
 "nbformat": 4,
 "nbformat_minor": 2
}
