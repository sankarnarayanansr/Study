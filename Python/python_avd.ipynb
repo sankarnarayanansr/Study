{
 "cells": [
  {
   "cell_type": "code",
   "execution_count": null,
   "metadata": {},
   "outputs": [],
   "source": [
    "# Decorator \n",
    "# Iterator \n",
    "# Generator\n",
    "# COntext manager\n"
   ]
  },
  {
   "cell_type": "code",
   "execution_count": 2,
   "metadata": {},
   "outputs": [
    {
     "name": "stdout",
     "output_type": "stream",
     "text": [
      "x is 23 , y is 40\n",
      "This object contains 10 , 20\n"
     ]
    }
   ],
   "source": [
    "class Vector:\n",
    "    def __init__(self , x , y):\n",
    "        self.x , self.y = x , y\n",
    "    def __str__(self):\n",
    "        return f'x is {self.x} , y is {self.y}'\n",
    "    def __add__(self,another):\n",
    "        return Vector(self.x+another.x , self.y+another.y)\n",
    "    def __call__(self, *args, **kwds):\n",
    "        return f'This object contains {self.x} , {self.y}'\n",
    "\n",
    "v1 = Vector(10,20)\n",
    "v2 = Vector(13,20)\n",
    "print(v1+v2)\n",
    "print(v1())"
   ]
  },
  {
   "cell_type": "code",
   "execution_count": 11,
   "metadata": {},
   "outputs": [
    {
     "name": "stdout",
     "output_type": "stream",
     "text": [
      "This\n",
      "is\n",
      "my\n",
      "sentence\n"
     ]
    }
   ],
   "source": [
    "#########################\n",
    "#Other Way\n",
    "#########################\n",
    "class SentenceIterator:\n",
    "    def __init__(self, sentence):\n",
    "        self.__words=sentence.split(' ')\n",
    "        self.index = -1\n",
    "    def __next__(self):\n",
    "        self.index += 1\n",
    "        try:\n",
    "            return self.__words[self.index]\n",
    "        except:\n",
    "            raise StopIteration\n",
    "class Sentence:\n",
    "    def __init__(self, sentence):\n",
    "        self.__text=sentence\n",
    "        self.__words=sentence.split(' ')\n",
    "        self.index = -1\n",
    "    def __iter__(self):\n",
    "        # self.index=-1 I can either have the same class as iterator class but it should do the __next__ work\n",
    "        # return self\n",
    "        # Or I can pass another Iterator class as my iterator like this and that will do the iteration with __next__\n",
    "        return SentenceIterator(self.__text) \n",
    "    # def __next__(self):\n",
    "    #     self.index+=1\n",
    "    #     try:\n",
    "    #         return self.__words[self.index]\n",
    "    #     except:\n",
    "    #         raise StopIteration\n",
    "        \n",
    "    def __len__(self):\n",
    "        return len(self.__words)\n",
    "sent = Sentence('This is my sentence')\n",
    "for x in sent:\n",
    "    print(x)\n",
    "\n",
    "\n",
    "        \n",
    "        \n"
   ]
  },
  {
   "cell_type": "code",
   "execution_count": 19,
   "metadata": {},
   "outputs": [
    {
     "name": "stdout",
     "output_type": "stream",
     "text": [
      "1048586240\n"
     ]
    }
   ],
   "source": [
    "# My own datatype \n",
    "class StorageConverter:\n",
    "    __convertUnits = { \n",
    "        'mb':{'gb':'divide 1024','kb':'multiply 1024'} ,\n",
    "        'gb':{'mb':'multiply 1024','kb': 'multiply 1024*1024'},\n",
    "        'kb':{'gb': 'divide 1024*1024', 'mb':'divide 1024'}\n",
    "    }\n",
    "    @classmethod\n",
    "    def convertUnitToUnit(self, size , unit1 , unit2):\n",
    "        if unit1 == unit2:\n",
    "            return size\n",
    "        if unit1 not in self.__convertUnits or unit2 not in self.__convertUnits:\n",
    "            return -1\n",
    "        expression = self.__convertUnits[unit1][unit2].split(' ')\n",
    "        if 'multiply' in expression[0]:\n",
    "            return size.__mul__(eval(expression[1]))\n",
    "        if 'divide' in expression[0]:\n",
    "            return size.__floordiv__(eval(expression[1]))\n",
    "        \n",
    "class Storage:\n",
    "    def __init__(self,size,unit):\n",
    "        self.size=StorageConverter.convertUnitToUnit(size,unit,'mb')\n",
    "        self.unit='mb'\n",
    "    def __add__(self,another):\n",
    "        return Storage(self.size+another.size , 'mb')\n",
    "    def __str__(self):\n",
    "        return f'{self.size} {self.unit}'\n",
    "    def printInFormat(self,format):\n",
    "        return StorageConverter.convertUnitToUnit(self.size,'mb',format)\n",
    "\n",
    "\n",
    "s1 = Storage(1000 , 'gb')\n",
    "s2 = Storage(10 , 'mb')\n",
    "s3=s1+s2\n",
    "print(s3.printInFormat('kb'))\n",
    "\n",
    "\n"
   ]
  },
  {
   "cell_type": "code",
   "execution_count": 33,
   "metadata": {},
   "outputs": [
    {
     "name": "stdout",
     "output_type": "stream",
     "text": [
      "2\n",
      "3\n",
      "5\n",
      "8\n",
      "13\n",
      "21\n",
      "34\n",
      "55\n",
      "89\n",
      "144\n"
     ]
    }
   ],
   "source": [
    "# generators are something which can produce value over sequence of time \n",
    "# it will stop the current execution and you can continue later\n",
    "# but that cant be recursively used as recursion may tree up and branch up into diff paths \n",
    "# you can only use geneator in sequential manner \n",
    "# if you still want to have exaustive generator use it with while True\n",
    "\n",
    "# def generatorFibonaci(a,b):\n",
    "#     yield a+b\n",
    "#     generatorFibonaci(a,b)\n",
    "# gen=generatorFibonaci(1,1)\n",
    "# print(next(gen))\n",
    "# while True:\n",
    "#     next(gen)\n",
    "\n",
    "# correct use of exhaustive decorator\n",
    "def generatorFibonaci(a,b):\n",
    "    while True:\n",
    "        yield a+b\n",
    "        a,b=b,a+b\n",
    "fibgen=generatorFibonaci(1,1)\n",
    "for i in range(10):\n",
    "    print(next(fibgen))\n",
    "\n",
    "\n"
   ]
  },
  {
   "cell_type": "code",
   "execution_count": 37,
   "metadata": {},
   "outputs": [
    {
     "name": "stdout",
     "output_type": "stream",
     "text": [
      "1\n",
      "2\n",
      "3\n",
      "4\n",
      "5\n",
      "6\n",
      "7\n",
      "8\n",
      "9\n",
      "10\n",
      "55\n"
     ]
    }
   ],
   "source": [
    "#iterator to give first n number and sum\n",
    "\n",
    "class FirstN:\n",
    "    def __init__(self,n):\n",
    "        self.n=n\n",
    "    def __iter__(self):\n",
    "        self.i=0\n",
    "        return self\n",
    "    def __next__(self):\n",
    "        if self.i<self.n:\n",
    "            self.i+=1\n",
    "            return self.i\n",
    "        else:\n",
    "            raise StopIteration\n",
    "f=FirstN(10)\n",
    "for x in f:\n",
    "    print(x)\n",
    "print(sum(f))"
   ]
  },
  {
   "cell_type": "code",
   "execution_count": 42,
   "metadata": {},
   "outputs": [
    {
     "name": "stdout",
     "output_type": "stream",
     "text": [
      "file\n",
      "file\n",
      "file\n",
      "file\n",
      "file\n",
      "file\n"
     ]
    }
   ],
   "source": [
    "#this is the basic example of a context manager\n",
    "# this is majorly taken care by 2 dunder methods \n",
    "with open('m.txt' , 'r') as f:\n",
    "    print(f.read())\n",
    "#assume if you write it as sequential code \n",
    "# it would look like this \n",
    "f = open('m.txt','r')\n",
    "print(f.read())"
   ]
  },
  {
   "cell_type": "code",
   "execution_count": 53,
   "metadata": {},
   "outputs": [
    {
     "name": "stdout",
     "output_type": "stream",
     "text": [
      "file\n",
      "file\n",
      "file\n"
     ]
    }
   ],
   "source": [
    "class FileManager:\n",
    "    def __init__(self,sFile,sMode):\n",
    "        self.file=sFile\n",
    "        self.mode=sMode\n",
    "    def __enter__(self):\n",
    "        self.fobj=open(self.file,self.mode)\n",
    "        return self.fobj\n",
    "    def __exit__(self, exc_type, exc_value, exc_traceback):\n",
    "        self.fobj.close()\n",
    "        return None\n",
    "with FileManager('m.txt','r') as fm:\n",
    "    \n",
    "    print(fm.read())"
   ]
  },
  {
   "cell_type": "code",
   "execution_count": 61,
   "metadata": {},
   "outputs": [
    {
     "name": "stdout",
     "output_type": "stream",
     "text": [
      "['f', 'i', 'l', 'e', '\\n', 'f', 'i', 'l', 'e', '\\n', 'f', 'i', 'l', 'e']\n",
      "f\n",
      "i\n",
      "l\n",
      "e\n",
      "\n",
      "\n",
      "f\n",
      "i\n",
      "l\n",
      "e\n",
      "\n",
      "\n",
      "f\n",
      "i\n",
      "l\n",
      "e\n"
     ]
    }
   ],
   "source": [
    "# Context manager based file reader with generator support \n",
    "\n",
    "class MyFileReader:\n",
    "    def __init__(self,sFile,sMode):\n",
    "        self.file=sFile\n",
    "        self.mode=sMode\n",
    "        self.index=-1\n",
    "    def __next__(self):\n",
    "        self.index+=1\n",
    "        return self.lines[self.index]\n",
    "    def __iter__(self):\n",
    "        self.index=-1\n",
    "        return self\n",
    "    def __enter__(self):\n",
    "        self.fobj=open(self.file,self.mode)\n",
    "        self.lines = list(self.fobj.read())\n",
    "        print(self.lines)\n",
    "        return self\n",
    "    def __exit__(self, exc_type, exc_value, exc_traceback):\n",
    "        self.fobj.close()\n",
    "        return None\n",
    "    def fileGenerator(self):\n",
    "        self.__iter__()\n",
    "        while self.index<len(self.lines):\n",
    "            yield self.__next__()\n",
    "        else:\n",
    "            raise StopIteration\n",
    "    \n",
    "    def hasNext(self):\n",
    "        if self.index<len(self.lines)-1:\n",
    "            return True\n",
    "        return False\n",
    "with MyFileReader('m.txt','r') as fm:\n",
    "    # print(dir(fm))\n",
    "    fgen = fm.fileGenerator()\n",
    "    while fm.hasNext():\n",
    "        print(next(fgen))"
   ]
  },
  {
   "cell_type": "code",
   "execution_count": 62,
   "metadata": {},
   "outputs": [],
   "source": [
    "from contextlib import contextmanager\n",
    "# doing context managers without __dunders__\n",
    "@contextmanager\n",
    "def open_managed_file(filename):\n",
    "    f = open(filename, 'w')\n",
    "    try:\n",
    "        yield f\n",
    "    finally:\n",
    "        f.close()\n",
    "\n",
    "with open_managed_file('m.txt') as f:\n",
    "    f.write('some todo...')"
   ]
  },
  {
   "cell_type": "code",
   "execution_count": 110,
   "metadata": {},
   "outputs": [
    {
     "name": "stdout",
     "output_type": "stream",
     "text": [
      "0.0\n",
      "0.0\n",
      "0.0\n",
      "Cache hit 1\n",
      "0.0\n",
      "Cache hit 2\n",
      "0.0\n",
      "Cache hit 3\n",
      "0.0\n",
      "Cache hit 4\n",
      "0.0\n",
      "Cache hit 5\n",
      "0.0\n",
      "Cache hit 6\n",
      "0.0\n",
      "Cache hit 7\n",
      "0.0\n",
      "Cache hit 8\n",
      "0.0\n",
      "Cache hit 9\n",
      "0.0\n",
      "Cache hit 10\n",
      "0.0\n",
      "Cache hit 11\n",
      "0.0\n",
      "Cache hit 12\n",
      "0.0\n",
      "Cache hit 13\n",
      "0.0\n",
      "Cache hit 14\n",
      "0.0\n",
      "Cache hit 15\n",
      "0.0\n",
      "Cache hit 16\n",
      "0.0\n",
      "Cache hit 17\n",
      "0.0\n",
      "Cache hit 18\n",
      "0.0\n",
      "Cache hit 19\n",
      "0.0\n",
      "Cache hit 20\n",
      "0.0\n",
      "Cache hit 21\n",
      "0.0\n",
      "Cache hit 22\n",
      "0.0\n",
      "Cache hit 23\n",
      "0.0\n"
     ]
    },
    {
     "data": {
      "text/plain": [
       "121393"
      ]
     },
     "execution_count": 110,
     "metadata": {},
     "output_type": "execute_result"
    }
   ],
   "source": [
    "#building my own cache decorator from functools without functools\n",
    "def cache(fun):\n",
    "    memo = {}\n",
    "    def inner(*args):\n",
    "        key = args\n",
    "        if len(args)==1:\n",
    "            key=args[0]\n",
    "        # print(memo,args)\n",
    "        if key in memo:\n",
    "            print(f'Cache hit {key}')\n",
    "            return memo[key]\n",
    "        import time\n",
    "        st=time.time()\n",
    "        res=fun(*args)\n",
    "        end=time.time()\n",
    "        print(end-st)\n",
    "        memo[key] = res\n",
    "        # print(memo)\n",
    "        # print('pjjd')\n",
    "        return res\n",
    "    return inner\n",
    "@cache\n",
    "def fib(n):\n",
    "    # print(n)\n",
    "    if n<0:\n",
    "        return 0\n",
    "    if n in [0,1]:\n",
    "        return 1\n",
    "    return fib(n-1)+fib(n-2)\n",
    "        \n",
    "\n",
    "fib(25)"
   ]
  },
  {
   "cell_type": "code",
   "execution_count": 109,
   "metadata": {},
   "outputs": [
    {
     "name": "stdout",
     "output_type": "stream",
     "text": [
      "71.32317781448364\n",
      "684.6124761104584\n"
     ]
    },
    {
     "data": {
      "text/plain": [
       "1"
      ]
     },
     "execution_count": 109,
     "metadata": {},
     "output_type": "execute_result"
    }
   ],
   "source": [
    "#timing printer using decorator\n",
    "def tracktime(func):\n",
    "    def wrapper(*args):\n",
    "        import time\n",
    "        st=time.time()\n",
    "        res = func(*args)\n",
    "        end=time.time()\n",
    "        print(end-st)\n",
    "        return res\n",
    "    return wrapper\n",
    "@tracktime\n",
    "def foronelooptuple():\n",
    "    tup = (x for x in range(0,1000000000))\n",
    "    for x in tup:\n",
    "        w=x\n",
    "    return 1\n",
    "@tracktime\n",
    "def foronelooplist():\n",
    "    arr = [x for x in range(0,1000000000)]\n",
    "    for x in arr:\n",
    "        w=x\n",
    "    return 1\n",
    "\n",
    "foronelooptuple()\n",
    "foronelooplist()\n",
    "    \n",
    "    "
   ]
  },
  {
   "cell_type": "code",
   "execution_count": 117,
   "metadata": {},
   "outputs": [
    {
     "name": "stdout",
     "output_type": "stream",
     "text": [
      "[2, 4, 6, 8, 10]\n",
      "[1, 3, 5]\n"
     ]
    },
    {
     "data": {
      "text/plain": [
       "120"
      ]
     },
     "execution_count": 117,
     "metadata": {},
     "output_type": "execute_result"
    }
   ],
   "source": [
    "#map,reduce,filter\n",
    "from functools import reduce\n",
    "arr=[1,2,3,4,5]\n",
    "print(list(map(lambda x: x*2, arr)))\n",
    "print(list(filter(lambda x: x%2, arr)))\n",
    "# reduce is usually to take 2 different elements and compress it to one \n",
    "reduce(lambda x,y: x*y, arr)\n"
   ]
  },
  {
   "cell_type": "code",
   "execution_count": 146,
   "metadata": {},
   "outputs": [
    {
     "data": {
      "text/plain": [
       "'file1'"
      ]
     },
     "execution_count": 146,
     "metadata": {},
     "output_type": "execute_result"
    }
   ],
   "source": [
    "\n",
    "#creational\n",
    "#Singleton\n",
    "class SingletonLogger:\n",
    "    _instance=None\n",
    "    __initialized = None\n",
    "    def __init__(self,file):\n",
    "        if self.__initialized == None:\n",
    "            self.file=file\n",
    "            self.__initialized=True\n",
    "    def __new__(self,*args,**kwargs):\n",
    "        if self._instance == None:\n",
    "            self._instance = super().__new__(self)\n",
    "        return self._instance\n",
    "s1=SingletonLogger('file1')\n",
    "s2=SingletonLogger('file2')\n",
    "s1.file\n",
    "\n",
    "\n"
   ]
  },
  {
   "cell_type": "code",
   "execution_count": 148,
   "metadata": {},
   "outputs": [
    {
     "name": "stdout",
     "output_type": "stream",
     "text": [
      "Woof!\n"
     ]
    }
   ],
   "source": [
    "#Factory , Its like an interface to create objects and it abstracts the implementation inside the induviduals\n",
    "\n",
    "class Animal:\n",
    "    def speak(self):\n",
    "        pass\n",
    "\n",
    "class Dog(Animal):\n",
    "    def speak(self):\n",
    "        return \"Woof!\"\n",
    "\n",
    "class Cat(Animal):\n",
    "    def speak(self):\n",
    "        return \"Meow!\"\n",
    "\n",
    "class AnimalFactory:\n",
    "    @staticmethod\n",
    "    def create_animal(animal_type):\n",
    "        if animal_type == \"dog\":\n",
    "            return Dog()\n",
    "        elif animal_type == \"cat\":\n",
    "            return Cat()\n",
    "        return None\n",
    "\n",
    "dog = AnimalFactory.create_animal('dog')\n",
    "print(dog.speak())"
   ]
  },
  {
   "cell_type": "code",
   "execution_count": 149,
   "metadata": {},
   "outputs": [
    {
     "name": "stdout",
     "output_type": "stream",
     "text": [
      "Processing payment of $100 through PayPal.\n",
      "Processing payment of $200 through Stripe.\n",
      "Processing payment of $300 through Square.\n"
     ]
    }
   ],
   "source": [
    "# adapter is to bridge many different entities to work together for a common task\n",
    "# here Payment processing is the commmon task and paypal , stripe and square are three\n",
    "# different entitites . Both are connected inside unifiedpaymentadapter\n",
    "class PaymentProcessor:\n",
    "    def process_payment(self, amount):\n",
    "        pass\n",
    "\n",
    "# Adaptee classes\n",
    "class PayPal:\n",
    "    def send_payment(self, amount):\n",
    "        print(f\"Processing payment of ${amount} through PayPal.\")\n",
    "\n",
    "class Stripe:\n",
    "    def make_payment(self, amount):\n",
    "        print(f\"Processing payment of ${amount} through Stripe.\")\n",
    "\n",
    "class Square:\n",
    "    def pay(self, amount):\n",
    "        print(f\"Processing payment of ${amount} through Square.\")\n",
    "\n",
    "class UnifiedPaymentAdapter(PaymentProcessor):\n",
    "    def __init__(self, payment_system, system_type):\n",
    "        self.payment_system = payment_system\n",
    "        self.system_type = system_type\n",
    "\n",
    "    def process_payment(self, amount):\n",
    "        if self.system_type == \"paypal\":\n",
    "            self.payment_system.send_payment(amount)\n",
    "        elif self.system_type == \"stripe\":\n",
    "            self.payment_system.make_payment(amount)\n",
    "        elif self.system_type == \"square\":\n",
    "            self.payment_system.pay(amount)\n",
    "        else:\n",
    "            raise ValueError(f\"Unknown payment system type: {self.system_type}\")\n",
    "\n",
    "# Client code\n",
    "def main():\n",
    "    paypal = PayPal()\n",
    "    stripe = Stripe()\n",
    "    square = Square()\n",
    "\n",
    "    paypal_adapter = UnifiedPaymentAdapter(paypal, \"paypal\")\n",
    "    stripe_adapter = UnifiedPaymentAdapter(stripe, \"stripe\")\n",
    "    square_adapter = UnifiedPaymentAdapter(square, \"square\")\n",
    "\n",
    "    # Using the unified adapter to process payments\n",
    "    paypal_adapter.process_payment(100)  # Output: Processing payment of $100 through PayPal.\n",
    "    stripe_adapter.process_payment(200)  # Output: Processing payment of $200 through Stripe.\n",
    "    square_adapter.process_payment(300)  # Output: Processing payment of $300 through Square.\n",
    "\n",
    "if __name__ == \"__main__\":\n",
    "    main()\n"
   ]
  },
  {
   "cell_type": "code",
   "execution_count": null,
   "metadata": {},
   "outputs": [],
   "source": []
  }
 ],
 "metadata": {
  "kernelspec": {
   "display_name": "Python 3",
   "language": "python",
   "name": "python3"
  },
  "language_info": {
   "codemirror_mode": {
    "name": "ipython",
    "version": 3
   },
   "file_extension": ".py",
   "mimetype": "text/x-python",
   "name": "python",
   "nbconvert_exporter": "python",
   "pygments_lexer": "ipython3",
   "version": "3.12.5"
  }
 },
 "nbformat": 4,
 "nbformat_minor": 2
}
